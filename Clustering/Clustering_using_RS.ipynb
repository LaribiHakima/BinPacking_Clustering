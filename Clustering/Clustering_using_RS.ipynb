{
 "cells": [
  {
   "cell_type": "code",
   "execution_count": 194,
   "metadata": {},
   "outputs": [],
   "source": [
    "import math\n",
    "import random\n",
    "from sklearn import datasets\n",
    "import matplotlib.pyplot as plt\n",
    "import pandas as pd\n",
    "from sklearn.cluster import KMeans\n",
    "import numpy as np\n",
    "from sklearn.neighbors.nearest_centroid import NearestCentroid\n",
    "from sklearn.utils import shuffle\n",
    "from sklearn.metrics import accuracy_score\n",
    "from itertools import permutations"
   ]
  },
  {
   "cell_type": "code",
   "execution_count": 195,
   "metadata": {},
   "outputs": [],
   "source": [
    "#-------------------------Génération de la solution initiale en utilisant K-means------------------------\n",
    "def kmeans_imp(X, clusters):\n",
    "    # Number of clusters\n",
    "    kmeans = KMeans(n_clusters=clusters)\n",
    "    # Fitting the input data\n",
    "    kmeans = kmeans.fit(X)\n",
    "    # Getting the cluster labels\n",
    "    labels = kmeans.predict(X)\n",
    "    # Centroid values\n",
    "    centroids = kmeans.cluster_centers_\n",
    "    unique_elements, counts_elements = np.unique(labels, return_counts=True)\n",
    "    return labels,counts_elements"
   ]
  },
  {
   "cell_type": "code",
   "execution_count": 196,
   "metadata": {},
   "outputs": [],
   "source": [
    "#-------------------------Calcul de l'énergie de la solution------------------------\n",
    "def f(x,y,effectif,general_center,I):\n",
    "    #Calculate between-class scatter\n",
    "    clf = NearestCentroid()\n",
    "    clf.fit(x, y)\n",
    "    centroids=clf.centroids_\n",
    "    var=centroids-general_center\n",
    "    var=var**2\n",
    "    effectif=effectif/np.shape(X)[0]\n",
    "    var=var*effectif[:, np.newaxis]\n",
    "    B=np.sum(var)\n",
    "    #Calculate total scatter\n",
    "    return B/I"
   ]
  },
  {
   "cell_type": "code",
   "execution_count": 197,
   "metadata": {},
   "outputs": [],
   "source": [
    "#-------------------------Calcul de l'intertue total------------------------\n",
    "def inertie_total(x,general_center):\n",
    "    #Calculate total scatter\n",
    "    total=x-general_center\n",
    "    total=total**2\n",
    "    I= sum(np.mean(total,axis=0))\n",
    "    return I"
   ]
  },
  {
   "cell_type": "code",
   "execution_count": 198,
   "metadata": {},
   "outputs": [],
   "source": [
    "#-------------------------Calcul du centre de gravité du dataset------------------------\n",
    "def gravity_center(x):\n",
    "        return np.mean(x,axis=0)"
   ]
  },
  {
   "cell_type": "code",
   "execution_count": 199,
   "metadata": {},
   "outputs": [],
   "source": [
    "#-------------------------Perturbation de la solution courante------------------------\n",
    "def perturb(p, effectif,l):\n",
    "    #effectif: tableau ou liste des effectifs par labels, de meme longueur que l (et contient le meme ordre des labels)   \n",
    "    effectifs=effectif.copy()\n",
    "    curr = p.copy()\n",
    "    m= np.shape(X)[0]\n",
    "    perturbed_state = p.copy() #state upon which the action is done\n",
    "    i = random.randint(0,m-1) #choose a random object \n",
    "    while (True):\n",
    "        index = random.randint(0,len(l)-1)\n",
    "        perturbed_state[i] = l[index]\n",
    "        if(perturbed_state[i] != p[i]):\n",
    "            # check whether the disturbed state is different from current_state*\n",
    "            effectifs[p[i]] = effectifs[p[i]] - 1\n",
    "            effectifs[ l[index]] = effectifs[ l[index]] + 1\n",
    "            break \n",
    "    return perturbed_state,effectifs  # return state upon which the action is done."
   ]
  },
  {
   "cell_type": "code",
   "execution_count": 200,
   "metadata": {},
   "outputs": [],
   "source": [
    "#*********************************Recuit Simulé ***************************\n",
    "def Recuit_Simulé(max_iter, temperature_init, alpha, temperature_fin, état_init,effectif, étiquettes_inutilisés):\n",
    "    \n",
    "    #Intialement on considère la température initiale comme température courante\n",
    "    t = temperature_init\n",
    "    #Et l'état initial comme état courant\n",
    "    état_courant = état_init.copy()\n",
    "    #Calcule de centre de gravité \n",
    "    general_center=gravity_center(X)\n",
    "    I=inertie_total(X,general_center)\n",
    "    f_courant=f(X,état_courant,effectif,general_center,I)\n",
    "    print(\"L'état courant:\", état_courant)\n",
    "    print(\"L'énergie de l'état courant:\", f_courant)\n",
    "    print(\"Effectif:\", effectif)\n",
    "    #Le critère d’arrêt est exprimé sous la forme de la température finale\n",
    "    while(t >= temperature_fin):\n",
    "        #Pour chaque température on va exécuter l'algorithme max_iter fois\n",
    "        for i in range(1, max_iter):\n",
    "            #On sélectionne une solution voisine en utilisant la stratégie de sélection \"perturb\" afin de mettre à l'état \n",
    "            #courant\n",
    "            état_suivant, effectif_suivant = perturb(état_courant,effectif,étiquettes_inutilisés)\n",
    "             #On teste si la nouvelle solution est meilleure\n",
    "             #Si ce n'est pas le cas on va l'accepter avec une certaine probabilité \n",
    "            f_suivant= f(X,état_suivant, effectif_suivant,general_center,I)\n",
    "            énergie_delta = f_suivant - f_courant\n",
    "            if ((énergie_delta >0) or (math.exp( énergie_delta / t) <= random.uniform(0,1))):\n",
    "                état_courant = état_suivant\n",
    "                f_courant= f_suivant\n",
    "                effectif=effectif_suivant\n",
    "        #On met à jour la température en appliquant la fonction géométrique \n",
    "        t = alpha * t\n",
    "    return état_courant,f_courant,effectif\n"
   ]
  },
  {
   "cell_type": "code",
   "execution_count": 201,
   "metadata": {},
   "outputs": [],
   "source": [
    "#*********************************Génération aléatoire de la solustion initiale ***************************\n",
    "def generation_aleatoire(m,k):\n",
    "    solution=[]\n",
    "    effectif=[0]*k\n",
    "    for i in range(m):\n",
    "        u=random.uniform(0,1)\n",
    "        solution.append(math.floor(u*k))\n",
    "        effectif[math.floor(u*k)]=effectif[math.floor(u*k)]+1\n",
    "    return np.array(solution), np.array(effectif)"
   ]
  },
  {
   "cell_type": "code",
   "execution_count": 202,
   "metadata": {},
   "outputs": [],
   "source": [
    "#*********************************Algorithme général avec solution initial aléatoire ***************************\n",
    "def Recuit_Simulé_init_aleatoire(X,max_iter, temperature_init, alpha, temperature_fin,nb_clusters):\n",
    "    m=np.shape(X)[0]\n",
    "    etat_init,effectif=generation_aleatoire(m,nb_clusters)\n",
    "    l=[j for j in (range(nb_clusters))]\n",
    "    solution,f_solution,effectif=Recuit_Simulé(max_iter, temperature_init, alpha, temperature_fin, etat_init,effectif, l)\n",
    "    return solution,f_solution,effectif\n",
    "   "
   ]
  },
  {
   "cell_type": "code",
   "execution_count": 203,
   "metadata": {},
   "outputs": [],
   "source": [
    "#*********************************Algorithme général avec solution initial avec Kmeans ***************************\n",
    "def Recuit_Simulé_init_Kmeans(X,max_iter, temperature_init, alpha, temperature_fin,nb_clusters):\n",
    "    m=np.shape(X)[0]\n",
    "    etat_init,effectif=kmeans_imp(X,nb_clusters)\n",
    "    l=[j for j in (range(nb_clusters))]\n",
    "    solution,f_solution,effectif=Recuit_Simulé(max_iter, temperature_init, alpha, temperature_fin, etat_init,effectif,l)\n",
    "    return solution,f_solution,effectif\n",
    "   "
   ]
  },
  {
   "cell_type": "code",
   "execution_count": 225,
   "metadata": {},
   "outputs": [],
   "source": [
    "#*********************************Cacul de taux d'érreur ***************************\n",
    "def taux_erreurs(Y_true,Y_result):\n",
    "    return 1-accuracy_score(Y_true, Y_result, normalize=True)"
   ]
  },
  {
   "cell_type": "code",
   "execution_count": 226,
   "metadata": {},
   "outputs": [],
   "source": [
    "#*********************************lier les classes trouvé aux classes réels ***************************\n",
    "def match_classes(true_y,solution_y,true_classes,solution_classes):\n",
    "    max_accurcy=0\n",
    "    matched_solution=[]\n",
    "    match_classes=solution_classes.copy()\n",
    "    m=len(true_classes)\n",
    "    per = list(permutations(true_classes))\n",
    "    for i in range(len(per)):\n",
    "        possibility=per[i]\n",
    "        match_solution=[] \n",
    "        for it in range(len(true_y)):\n",
    "            index=solution_y[it]\n",
    "            match_solution.append(possibility[index])\n",
    "        curr_acc=accuracy_score(true_y, match_solution, normalize=True)\n",
    "        if(curr_acc>max_accurcy):\n",
    "            max_accurcy=curr_acc\n",
    "            matched_solution=match_solution\n",
    "    return matched_solution"
   ]
  },
  {
   "cell_type": "code",
   "execution_count": 227,
   "metadata": {},
   "outputs": [],
   "source": [
    "#*********************************Trouvé les objets mal classé et leur nombre ***************************\n",
    "def objet_mal_classe(true_y,solution_y):\n",
    "    objet=[]\n",
    "    for i in range(len(true_y)):\n",
    "        if(true_y[i]!=solution_y[i]):\n",
    "            objet.append(i)\n",
    "    return objet"
   ]
  },
  {
   "cell_type": "code",
   "execution_count": 241,
   "metadata": {},
   "outputs": [],
   "source": [
    "#***************générer le fichier iris csv pour faire ACP ***************************\n",
    "def iris_to_csv(dataset,solution_y):\n",
    "    dataset[\"variety\"]=solution_y\n",
    "    dataset.to_csv(path)"
   ]
  },
  {
   "cell_type": "code",
   "execution_count": 243,
   "metadata": {},
   "outputs": [],
   "source": [
    "#***************générer le fichier heart csv pour faire ACP ***************************\n",
    "def heart_to_csv(dataset,solution_y,path):\n",
    "    dataset[\"target\"]=solution_y\n",
    "    dataset.to_csv(path)"
   ]
  },
  {
   "cell_type": "code",
   "execution_count": 246,
   "metadata": {},
   "outputs": [
    {
     "name": "stdout",
     "output_type": "stream",
     "text": [
      "L'état courant: [1 2 0 1 0 2 0 2 2 0 1 1 2 2 2 0 2 1 1 2 1 0 1 2 2 0 2 2 1 0 1 2 0 0 1 1 1\n",
      " 1 0 0 0 1 2 2 1 1 1 1 0 0 0 0 1 1 2 2 0 0 1 1 1 1 1 0 2 2 1 2 2 0 1 2 0 1\n",
      " 0 0 2 1 2 2 0 0 0 2 2 0 2 0 2 2 2 0 1 1 1 1 1 1 0 2 2 1 2 1 1 2 2 0 1 1 1\n",
      " 2 1 0 0 0 1 1 1 0 0 2 1 2 1 2 2 0 2 2 1 2 1 1 1 2 0 2 1 0 0 0 0 1 1 2 1 0\n",
      " 1 2]\n",
      "L'énergie de l'état courant: 0.0030174159903024584\n",
      "Effectif: [44 57 49]\n",
      "L'état Final: [0 0 0 0 0 0 0 0 0 0 0 0 0 0 0 0 0 0 0 0 0 0 0 0 0 0 0 0 0 0 0 0 0 0 0 0 0\n",
      " 0 0 0 0 0 0 0 0 0 0 0 0 0 2 2 1 2 2 2 2 2 2 2 2 2 2 2 2 2 2 2 2 2 2 2 2 2\n",
      " 2 2 2 1 2 2 2 2 2 2 2 2 2 2 2 2 2 2 2 2 2 2 2 2 2 2 1 2 1 1 1 1 2 1 1 1 1\n",
      " 1 1 2 2 1 1 1 1 2 1 2 1 2 1 1 2 2 1 1 1 1 1 2 1 1 1 1 2 1 1 1 2 1 1 1 2 1\n",
      " 1 2]\n",
      "L'énergie de l'état Final: 0.8842752513446485\n",
      "Effectif: [50 38 62]\n",
      "0.10666666666666669\n"
     ]
    }
   ],
   "source": [
    "#Test aleatoire iris\n",
    "iris = pd.read_csv(\"iris.csv\")\n",
    "X = iris.iloc[:, :-1].values;\n",
    "y = iris.iloc[:,-1].values\n",
    "solution,f_solution,effectif=Recuit_Simulé_init_aleatoire(X,6284, 2296,0.587 , 78,3)\n",
    "print(\"L'état Final:\",solution)\n",
    "print(\"L'énergie de l'état Final:\", f_solution)\n",
    "print(\"Effectif:\", effectif)\n",
    "solution=match_classes(y,solution,[\"Setosa\",\"Virginica\",\"Versicolor\"],[0,1,2])\n",
    "print(taux_erreurs(y,solution))\n",
    "len(objet_mal_classe(y,solution))\n",
    "iris_to_csv(iris,solution,\"iris_cluster_aleatoire.csv\")"
   ]
  },
  {
   "cell_type": "code",
   "execution_count": 249,
   "metadata": {},
   "outputs": [
    {
     "name": "stdout",
     "output_type": "stream",
     "text": [
      "L'état courant: [1 1 1 1 1 1 1 1 1 1 1 1 1 1 1 1 1 1 1 1 1 1 1 1 1 1 1 1 1 1 1 1 1 1 1 1 1\n",
      " 1 1 1 1 1 1 1 1 1 1 1 1 1 2 2 0 2 2 2 2 2 2 2 2 2 2 2 2 2 2 2 2 2 2 2 2 2\n",
      " 2 2 2 0 2 2 2 2 2 2 2 2 2 2 2 2 2 2 2 2 2 2 2 2 2 2 0 2 0 0 0 0 2 0 0 0 0\n",
      " 0 0 2 2 0 0 0 0 2 0 2 0 2 0 0 2 2 0 0 0 0 0 2 0 0 0 0 2 0 0 0 2 0 0 0 2 0\n",
      " 0 2]\n",
      "L'énergie de l'état courant: 0.8842752513446485\n",
      "Effectif: [38 50 62]\n",
      "L'état Final: [1 1 1 1 1 1 1 1 1 1 1 1 1 1 1 1 1 1 1 1 1 1 1 1 1 1 1 1 1 1 1 1 1 1 1 1 1\n",
      " 1 1 1 1 1 1 1 1 1 1 1 1 1 2 2 0 2 2 2 2 2 2 2 2 2 2 2 2 2 2 2 2 2 2 2 2 2\n",
      " 2 2 2 0 2 2 2 2 2 2 2 2 2 2 2 2 2 2 2 2 2 2 2 2 2 2 0 2 0 0 0 0 2 0 0 0 0\n",
      " 0 0 2 2 0 0 0 0 2 0 2 0 2 0 0 2 2 0 0 0 0 0 2 0 0 0 0 2 0 0 0 2 0 0 0 2 0\n",
      " 0 2]\n",
      "L'énergie de l'état Final: 0.8842752513446485\n",
      "Effectif: [38 50 62]\n",
      "0.10666666666666669\n",
      "16\n"
     ]
    }
   ],
   "source": [
    "#Test kmeans iris \n",
    "solution,f_solution,effectif=Recuit_Simulé_init_Kmeans(X,6284, 2296,0.587 , 78,3)\n",
    "print(\"L'état Final:\",solution)\n",
    "print(\"L'énergie de l'état Final:\", f_solution)\n",
    "print(\"Effectif:\", effectif)\n",
    "solution=match_classes(y,solution,[\"Setosa\",\"Virginica\",\"Versicolor\"],[0,1,2])\n",
    "print(taux_erreurs(y,solution))\n",
    "print(len(objet_mal_classe(y,solution)))\n",
    "iris_to_csv(iris,solution,\"iris_cluster_Kmeans.csv\")"
   ]
  },
  {
   "cell_type": "code",
   "execution_count": 253,
   "metadata": {},
   "outputs": [
    {
     "name": "stdout",
     "output_type": "stream",
     "text": [
      "L'état courant: [0 0 1 1 0 1 1 1 1 0 0 0 0 1 1 1 1 1 0 1 0 1 1 0 1 1 1 0 0 1 0 0 1 0 0 0 0\n",
      " 1 1 1 0 0 1 0 0 1 1 0 0 1 0 0 0 0 0 0 0 1 1 0 0 0 0 0 1 1 0 1 0 0 1 0 1 1\n",
      " 1 1 0 1 0 0 1 0 0 1 1 1 1 1 0 0 1 1 0 0 0 0 0 0 0 1 0 1 0 0 1 1 0 1 1 0 0\n",
      " 1 1 1 0 1 0 0 1 1 1 1 1 1 0 1 0 0 1 0 1 0 1 1 0 0 1 1 1 1 0 1 1 1 0 1 0 1\n",
      " 0 0 0 1 0 0 0 0 0 1 0 1 1 0 0 1 1 1 1 0 1 0 0 0 0 0 1 0 0 1 1 0 0 0 1 0 1\n",
      " 0 0 1 0 1 1 0 0 1 0 0 0 1 0 0 0 1 1 1 0 1 0 1 1 0 1 0 0 1 0 1 0 1 1 1 0 0\n",
      " 1 1 1 1 1 0 0 0 1 1 1 0 1 0 0 1 0 1 0 0 1 1 0 0 0 0 1 0 1 0 1 0 1 1 0 1 1\n",
      " 1 1 1 0 1 0 0 0 0 1 1 1 0 0 0 0 1 0 0 0 0 0 1 1 1 1 0 0 1 0 0 1 0 0 0 1 1\n",
      " 1 1 0 0 0 0 0]\n",
      "L'énergie de l'état courant: 0.002786410181580255\n",
      "Effectif: [159 144]\n",
      "L'état Final: [1 1 1 1 0 1 0 0 1 1 1 0 0 1 0 1 0 1 1 1 1 1 1 1 1 0 1 1 0 1 1 1 1 0 1 1 0\n",
      " 1 0 0 0 1 1 0 0 0 1 1 1 1 1 0 1 1 1 1 1 1 1 0 0 0 1 1 1 1 1 1 1 1 1 1 1 0\n",
      " 1 1 1 1 1 1 1 0 0 0 0 0 0 1 1 1 1 1 1 0 1 1 0 1 0 1 1 0 1 1 1 1 1 1 1 1 0\n",
      " 1 0 1 0 1 1 1 1 1 0 0 0 0 1 1 1 0 1 0 1 0 0 1 0 0 1 1 1 0 0 0 1 1 1 1 1 1\n",
      " 1 1 1 1 1 0 1 1 1 1 1 1 1 0 1 1 1 0 1 0 1 1 1 1 0 1 1 1 1 0 1 0 0 1 0 1 1\n",
      " 0 1 0 1 1 0 1 1 0 1 0 1 1 0 1 1 0 0 0 1 1 1 0 1 1 1 0 1 0 1 0 0 0 1 1 0 1\n",
      " 0 0 1 1 0 1 0 0 1 0 0 1 0 0 0 0 0 0 0 1 1 0 1 0 0 1 0 1 0 1 0 0 0 0 0 1 1\n",
      " 1 1 1 0 0 1 1 0 1 0 0 1 1 1 1 0 1 1 0 0 1 0 1 1 1 1 0 1 1 0 1 1 0 1 1 1 1\n",
      " 1 1 1 0 1 1 1]\n",
      "L'énergie de l'état Final: 0.4443437639898587\n",
      "Effectif: [110 193]\n",
      "0.42244224422442245\n",
      "128\n"
     ]
    }
   ],
   "source": [
    "#Test aleatoire heart\n",
    "heart = pd.read_csv(\"heart.csv\")\n",
    "X = heart.iloc[:, :-1].values;\n",
    "y = heart.iloc[:,-1].values\n",
    "solution,f_solution,effectif=Recuit_Simulé_init_aleatoire(X,5920, 6282,0.9 , 72,2)\n",
    "print(\"L'état Final:\",solution)\n",
    "print(\"L'énergie de l'état Final:\", f_solution)\n",
    "print(\"Effectif:\", effectif)\n",
    "solution=match_classes(y,solution,[0,1],[0,1])\n",
    "print(taux_erreurs(y,solution))\n",
    "print(len(objet_mal_classe(y,solution)))\n",
    "heart_to_csv(heart,solution,\"heart_cluster_aleatoire.csv\")"
   ]
  },
  {
   "cell_type": "code",
   "execution_count": 254,
   "metadata": {},
   "outputs": [
    {
     "name": "stdout",
     "output_type": "stream",
     "text": [
      "L'état courant: [0 0 0 0 1 0 1 1 0 0 0 1 1 0 1 0 1 0 0 0 0 0 0 0 0 1 0 0 1 0 0 0 0 1 0 0 1\n",
      " 0 1 1 1 0 0 1 1 1 0 0 0 0 0 1 0 0 0 0 0 0 0 1 1 1 0 0 0 0 0 0 0 0 0 0 0 1\n",
      " 0 0 0 0 0 0 0 1 1 1 1 1 1 0 0 0 0 0 0 1 0 0 1 0 1 0 0 1 0 0 0 0 0 0 0 0 1\n",
      " 0 1 0 1 0 0 0 0 0 1 1 1 1 0 0 0 1 0 1 0 1 1 0 1 1 0 0 0 1 1 1 0 0 0 0 0 0\n",
      " 0 0 0 0 0 1 0 0 0 0 0 0 0 1 0 0 0 1 0 1 0 0 0 0 1 0 0 0 0 1 0 1 1 0 1 0 0\n",
      " 1 0 1 0 0 1 0 0 1 0 1 0 0 1 0 0 1 1 1 0 0 0 1 0 0 0 1 0 1 0 1 1 1 0 0 1 0\n",
      " 1 1 0 0 1 0 1 1 0 1 1 0 1 1 1 1 1 1 1 0 0 1 0 1 1 0 1 0 1 0 1 1 1 1 1 0 0\n",
      " 0 0 0 1 1 0 0 1 0 1 1 0 0 0 0 1 0 0 1 1 0 1 0 0 0 0 1 0 0 1 0 0 1 0 0 0 0\n",
      " 0 0 0 1 0 0 0]\n",
      "L'énergie de l'état courant: 0.44434376398985864\n",
      "Effectif: [193 110]\n",
      "L'état Final: [0 0 0 0 1 0 1 1 0 0 0 1 1 0 1 0 1 0 0 0 0 0 0 0 0 1 0 0 1 0 0 0 0 1 0 0 1\n",
      " 0 1 1 1 0 0 1 1 1 0 0 0 0 0 1 0 0 0 0 0 0 0 1 1 1 0 0 0 0 0 0 0 0 0 0 0 1\n",
      " 0 0 0 0 0 0 0 1 1 1 1 1 1 0 0 0 0 0 0 1 0 0 1 0 1 0 0 1 0 0 0 0 0 0 0 0 1\n",
      " 0 1 0 1 0 0 0 0 0 1 1 1 1 0 0 0 1 0 1 0 1 1 0 1 1 0 0 0 1 1 1 0 0 0 0 0 0\n",
      " 0 0 0 0 0 1 0 0 0 0 0 0 0 1 0 0 0 1 0 1 0 0 0 0 1 0 0 0 0 1 0 1 1 0 1 0 0\n",
      " 1 0 1 0 0 1 0 0 1 0 1 0 0 1 0 0 1 1 1 0 0 0 1 0 0 0 1 0 1 0 1 1 1 0 0 1 0\n",
      " 1 1 0 0 1 0 1 1 0 1 1 0 1 1 1 1 1 1 1 0 0 1 0 1 1 0 1 0 1 0 1 1 1 1 1 0 0\n",
      " 0 0 0 1 1 0 0 1 0 1 1 0 0 0 0 1 0 0 1 1 0 1 0 0 0 0 1 0 0 1 0 0 1 0 0 0 0\n",
      " 0 0 0 1 0 0 0]\n",
      "L'énergie de l'état Final: 0.44434376398985864\n",
      "Effectif: [193 110]\n",
      "0.42244224422442245\n",
      "128\n"
     ]
    }
   ],
   "source": [
    "#Test aleatoire heart\n",
    "heart = pd.read_csv(\"heart.csv\")\n",
    "X = heart.iloc[:, :-1].values;\n",
    "y = heart.iloc[:,-1].values\n",
    "solution,f_solution,effectif=Recuit_Simulé_init_Kmeans(X,5920, 6282,0.9 , 72,2)\n",
    "print(\"L'état Final:\",solution)\n",
    "print(\"L'énergie de l'état Final:\", f_solution)\n",
    "print(\"Effectif:\", effectif)\n",
    "solution=match_classes(y,solution,[0,1],[0,1])\n",
    "print(taux_erreurs(y,solution))\n",
    "print(len(objet_mal_classe(y,solution)))\n",
    "heart_to_csv(heart,solution,\"heart_cluster_kmneans.csv\")"
   ]
  },
  {
   "cell_type": "code",
   "execution_count": null,
   "metadata": {},
   "outputs": [],
   "source": []
  }
 ],
 "metadata": {
  "kernelspec": {
   "display_name": "Python 3",
   "language": "python",
   "name": "python3"
  },
  "language_info": {
   "codemirror_mode": {
    "name": "ipython",
    "version": 3
   },
   "file_extension": ".py",
   "mimetype": "text/x-python",
   "name": "python",
   "nbconvert_exporter": "python",
   "pygments_lexer": "ipython3",
   "version": "3.7.4"
  }
 },
 "nbformat": 4,
 "nbformat_minor": 2
}
