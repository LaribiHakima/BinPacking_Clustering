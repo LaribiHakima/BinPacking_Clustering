{
 "cells": [
  {
   "cell_type": "code",
   "execution_count": 1,
   "metadata": {},
   "outputs": [],
   "source": [
    "import numpy as np\n",
    "import pandas as pd \n",
    "import matplotlib.pyplot as plt \n",
    "import time"
   ]
  },
  {
   "cell_type": "code",
   "execution_count": 2,
   "metadata": {},
   "outputs": [],
   "source": [
    "#This method implements first_fit which is an heuristic espcially created \n",
    "#to solve approximately Bin Packing problem\n",
    "#It returns :Number of bin needed\n",
    "#           :The content of each bin(list in witch each index \"i\" contains a list of objects of bin \"i\")\n",
    "def firstFit(weight, n, c): \n",
    "    res=0 # Number of Bins\n",
    "    bin_rem=np.zeros(n) # The remaining capacity of each bin which will be different with each iteration\n",
    "    bins= [] # The Objects that we will put in each bin\n",
    "    \n",
    "    for i in range(n): # for each object  \n",
    "        j=0  \n",
    "        for j in range(res+1):# for each bin already existes\n",
    "            \n",
    "            if bin_rem[j]>=weight[i]:# Testing if the bin \"j\" still have place to contain the object \"i\"  \n",
    "                # if yes:\n",
    "                bin_rem[j] = bin_rem[j] - weight[i]# Updaing the capacity of the bin in use \n",
    "                if(j!=res-1):# if the bin already contain objects\n",
    "                    bins[j].append(weight[i])              \n",
    "                else:# if the bin is just has been created\n",
    "                    bin_obj.append(weight[i])              \n",
    "                break #Stop iterating since we have found a bin\n",
    "                \n",
    "        if j==res:#Testing if the bin is already full or cannot contain more objects for the moment\n",
    "            if i!=0:# if it's not the first object\n",
    "                    bins.append(bin_obj)# Updating bins content\n",
    "            bin_rem[res] = c - weight[i]# Creating a new bin\n",
    "            bin_obj=[]\n",
    "            bin_obj.append(weight[i])\n",
    "            res=res+1# Updating the number of bins\n",
    "            \n",
    "    if(res>len(bins)):#Testing if the last bin is not fully filled\n",
    "            bins.append(bin_obj)  \n",
    "            \n",
    "    return res,bins"
   ]
  },
  {
   "cell_type": "code",
   "execution_count": 1,
   "metadata": {},
   "outputs": [],
   "source": [
    "#This method implements first_fit_Decreasing which is an offligne heuristic espcially created \n",
    "#to solve approximately Bin Packing problem\n",
    "#The difference is that the FFD sort object's list then call the classical method first fit\n",
    "#It returns :Number of bin needed\n",
    "#           :The content of each bin(list in witch each index \"i\" contains a list of objects of bin \"i\")\n",
    "def firstFitDecreasing(weight, n, c): \n",
    "    weight=np.asarray(weight)\n",
    "    weight=- np.sort(-weight)# Sorting Object's list\n",
    "    return firstFit(weight, n, c) "
   ]
  }
 ],
 "metadata": {
  "kernelspec": {
   "display_name": "Python 3",
   "language": "python",
   "name": "python3"
  },
  "language_info": {
   "codemirror_mode": {
    "name": "ipython",
    "version": 3
   },
   "file_extension": ".py",
   "mimetype": "text/x-python",
   "name": "python",
   "nbconvert_exporter": "python",
   "pygments_lexer": "ipython3",
   "version": "3.7.3"
  }
 },
 "nbformat": 4,
 "nbformat_minor": 2
}
