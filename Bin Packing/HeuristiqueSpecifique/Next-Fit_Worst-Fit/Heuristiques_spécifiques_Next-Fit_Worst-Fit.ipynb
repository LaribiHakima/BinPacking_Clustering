{
 "cells": [
  {
   "cell_type": "code",
   "execution_count": 11,
   "metadata": {},
   "outputs": [],
   "source": [
    "import numpy as np\n",
    "\n",
    "#Heuristique spécifique Next Fit :\n",
    "def nextFit(weight, capacity):\n",
    "    \n",
    "    #Initialisation de la variable nb qui contiendra le nombre de bacs necéssaire pour contenir les objets\n",
    "    nb = 0\n",
    "    #La variable c contiendra la capacité libre restante dans le bac courant, elle est initialisée a 0 car aucun bac au depart\n",
    "    c = 0\n",
    "    #la variable Obj_inBin contiendra la liste des objets rangés dans chaque bac, c'est un dictionnaire avec pour clé le numero du bac\n",
    "    obj_inBin=dict()\n",
    "    #Parcours des poids des objets que l'on souhaite ranger\n",
    "    for w in range(len(weight)): \n",
    "        if c >= weight[w]: \n",
    "            #si la capacité restante dans le bac actuel est suffisante pour contenir l'objet w alors on l'ajoute au bac\n",
    "            #et on décrémonte de la capacité c le poids de l'objet w\n",
    "            c = c - weight[w]\n",
    "            #on joute l'objet a la liste correspondant au bac courant dans le quel il vient d'etre rangé\n",
    "            (obj_inBin.get(nb)).append(weight[w])\n",
    "        else:\n",
    "            #si la capacité restante n'est pas suffisante alors on ajoute un nouveau bac de capacité \"capacity\" \n",
    "            nb += 1\n",
    "            c = capacity - weight[w] #et on retranche le poids de l'objet w qui vient d'etre ajouté au bac pour avoir la capacité restante\n",
    "            obj_inBin[nb]=list() #on créer la liste vide qui correspond au nouveau bac ajouté\n",
    "            (obj_inBin.get(nb)).append(weight[w]) #on ajoute a cette liste l'objet qu'on vient de ranger dans le bac nb\n",
    "    return nb,obj_inBin\n",
    "\n",
    "    \n"
   ]
  },
  {
   "cell_type": "code",
   "execution_count": 19,
   "metadata": {},
   "outputs": [
    {
     "name": "stdout",
     "output_type": "stream",
     "text": [
      "Nombre de bacs necéssaire avec Next Fit : 65\n",
      "\n",
      "Affichage du contenu des bacs :\n",
      " {1: [34991, 34941], 2: [34922, 34866], 3: [34849, 34771], 4: [34768, 34748], 5: [34544, 34358], 6: [34254, 34155], 7: [34098, 34076], 8: [34055, 34048], 9: [34029, 33990], 10: [33871, 33780], 11: [33750, 33654], 12: [33612, 33581], 13: [33430, 33260, 33197], 14: [33155, 33115, 33007], 15: [32989, 32795, 32708], 16: [32394, 32384, 32309], 17: [32193, 32039, 32038], 18: [32008, 31995, 31961], 19: [31946, 31865, 31839], 20: [31829, 31692, 31633], 21: [31354, 31169, 31141], 22: [31006, 30929, 30843], 23: [30842, 30807, 30741], 24: [30514, 30395, 30387], 25: [30341, 30296, 30287], 26: [30284, 30140, 30135], 27: [30063, 29975, 29933], 28: [29859, 29735, 29730], 29: [29703, 29525, 29518], 30: [29423, 29378, 29234], 31: [29218, 29178, 29092], 32: [29089, 28947, 28647], 33: [28574, 28550, 28547], 34: [28471, 28461, 28299], 35: [28267, 28252, 28251], 36: [28159, 28009, 28003], 37: [27967, 27852, 27811], 38: [27664, 27508, 27413], 39: [27409, 27184, 27162], 40: [27113, 27099, 27048], 41: [27041, 26733, 26506], 42: [26362, 26183, 25997], 43: [25976, 25897, 25856], 44: [25784, 25700, 25668], 45: [25641, 25522, 25490], 46: [25433, 25408, 25322], 47: [25299, 25237, 25091], 48: [25057, 25015, 24990], 49: [24974, 24939, 24834, 24777], 50: [24743, 24625, 24555, 24449], 51: [24367, 24340, 24329, 24126], 52: [24085, 24050, 24020, 23999], 53: [23989, 23974, 23928, 23837], 54: [23836, 23565, 23491, 23422], 55: [23417, 23205, 23195, 23156], 56: [23092, 22712, 22644, 22417], 57: [22392, 22281, 22239, 22212], 58: [22067, 22045, 22042, 22003], 59: [21866, 21851, 21849, 21713], 60: [21674, 21608, 21607, 21594], 61: [21401, 21296, 21239, 21180], 62: [21128, 21059, 20954, 20948], 63: [20947, 20813, 20755, 20725], 64: [20693, 20585, 20513, 20431], 65: [20338, 20310, 20296, 20081]}\n"
     ]
    }
   ],
   "source": [
    "#Test Next fit\n",
    "\n",
    "filin = open(\"../../instances/HARD9.txt\", \"r\")\n",
    "lignes = filin.readlines()\n",
    "\n",
    "capacity=int(lignes[1])\n",
    "weight = [ int(x) for x in lignes[2:len(lignes)] ]\n",
    "weight=np.asarray(weight)\n",
    "\n",
    "#weight = [10,80,70,10,10,8,4]\n",
    "#capacity = 100\n",
    "\n",
    "\n",
    "nb,tabOb=nextFit(weight, capacity)\n",
    "print(\"Nombre de bacs necéssaire avec Next Fit :\", nb) \n",
    "print(\"\\nAffichage du contenu des bacs :\\n\", tabOb)"
   ]
  },
  {
   "cell_type": "code",
   "execution_count": 13,
   "metadata": {},
   "outputs": [],
   "source": [
    "#Heuristique spécifique Worst Fit : \n",
    "def worstFit(weight, capacity):\n",
    "     \n",
    "    #Initialisation de la variable nb qui contiendra le nombre de bacs necéssaire\n",
    "    nb = 0;\n",
    " \n",
    "    #le nombre d'objet en entré\n",
    "    n=len(weight)\n",
    "    \n",
    "    #on a n objets en entré donc on aura au maximum n bacs si on place chaque objet dans un bac\n",
    "    #capaBin est un tableau de n cases qui contiendra la capacité libre restante dans chaque bac, \n",
    "    #il est initialisé a 0 car aucun bac prit au départ\n",
    "    capaBin = np.zeros(n);\n",
    " \n",
    "    #la variable Obj_inBin contiendra la liste des objets rangés dans chaque bac, c'est un dictionnaire avec pour clé le numero du bac\n",
    "    obj_inBin=dict()\n",
    "    #Parcours des poids des objets que l'on souhaite ranger\n",
    "    for i in range(n):\n",
    "        #Trouver le pire bac  pouvant contenir l'objet i :\n",
    "        #(celui ou la capacité réstante apres avoir ranger i est la plus grande)\n",
    "        j = 0;\n",
    "        bi = 0; #Indice du bac dans le quel on rangera i \n",
    "        max = -1; #ranger i dans le bac qui maximise max (l'espace réstant apres avoir ranger i)\n",
    "        for j in range(nb): #[0,nb[\n",
    "            #parcours des bacs éxistant \n",
    "            if (capaBin[j] >= weight[i] and capaBin[j]-weight[i] > max): \n",
    "                #si on trouve un bac pouvant contenir i et dont l'espace restant est supérieur a max \n",
    "                #alors mise a jour numero du bac élu et de la var max\n",
    "                bi = j;\n",
    "                max = capaBin[j] - weight[i];\n",
    "             \n",
    "        #Si il n'ya aucun bac ou alors qu'il n'ya plus de place dans tous les bac pour contenir i\n",
    "        if (max == -1):\n",
    "            #On ajoute un nouveau bac et on range i\n",
    "            capaBin[nb] = capacity - weight[i];\n",
    "            nb += 1;\n",
    "            #on créer la liste vide qui correspond au nouveau bac ajouté\n",
    "            obj_inBin[nb]=list()\n",
    "            #on ajoute a cette liste l'objet qu'on vient de ranger dans le bac nb\n",
    "            (obj_inBin.get(nb)).append(weight[i])\n",
    "        else: #Sinon alors un bac a été choisi pour contenir i, c'est celui qui maximise \"max\" (la capacité restante)\n",
    "            #on accéde au tableau des capacités des bacs et on soustrait au bac choisi le poid de i\n",
    "            capaBin[bi] -= weight[i];\n",
    "            #on ajoute l'objet i à la liste d'objet du bac choisi bi+1 \n",
    "            #(bi+1 car bi [0,n-1] alors que les clés de notre dictionnaire obj_inBin varie [1,n]) l'objet qui vient d'y etre rangé \n",
    "            (obj_inBin.get(bi+1)).append(weight[i])\n",
    "    return nb, obj_inBin\n",
    " \n"
   ]
  },
  {
   "cell_type": "code",
   "execution_count": 20,
   "metadata": {},
   "outputs": [
    {
     "name": "stdout",
     "output_type": "stream",
     "text": [
      "Nombre de bacs necéssaire avec Worst Fit : 60\n",
      "\n",
      "Affichage du contenu des bacs :\n",
      " {1: [34991, 34941, 29933], 2: [34922, 34866, 30140], 3: [34849, 34771, 30341], 4: [34768, 34748, 30387], 5: [34544, 34358, 30929], 6: [34254, 34155, 31354], 7: [34098, 34076, 31633], 8: [34055, 34048, 31865], 9: [34029, 33990, 31946], 10: [33871, 33780, 32309], 11: [33750, 33654, 32384], 12: [33612, 33581, 32394], 13: [33430, 33260, 33197], 14: [33155, 33115, 33007], 15: [32989, 32795, 32708], 16: [32193, 32039, 32038], 17: [32008, 31995, 31961], 18: [31839, 31829, 31692], 19: [31169, 31141, 31006], 20: [30843, 30842, 30807], 21: [30741, 30514, 30395], 22: [30296, 30287, 30284], 23: [30135, 30063, 29975], 24: [29859, 29735, 29730], 25: [29703, 29525, 29518], 26: [29423, 29378, 29234], 27: [29218, 29178, 29092], 28: [29089, 28947, 28647], 29: [28574, 28550, 28547], 30: [28471, 28461, 28299], 31: [28267, 28252, 28251], 32: [28159, 28009, 28003], 33: [27967, 27852, 27811], 34: [27664, 27508, 27413], 35: [27409, 27184, 27162], 36: [27113, 27099, 27048], 37: [27041, 26733, 26506], 38: [26362, 26183, 25997, 21239], 39: [25976, 25897, 25856, 22045], 40: [25784, 25700, 25668, 22392], 41: [25641, 25522, 25490, 23156], 42: [25433, 25408, 25322, 23491], 43: [25299, 25237, 25091, 24340], 44: [25057, 25015, 24990, 24743], 45: [24974, 24939, 24834, 24777], 46: [24625, 24555, 24449, 24367], 47: [24329, 24126, 24085, 24050], 48: [24020, 23999, 23989, 23974], 49: [23928, 23837, 23836, 23565], 50: [23422, 23417, 23205, 23195], 51: [23092, 22712, 22644, 22417], 52: [22281, 22239, 22212, 22067], 53: [22042, 22003, 21866, 21851], 54: [21849, 21713, 21674, 21608], 55: [21607, 21594, 21401, 21296], 56: [21180, 21128, 21059, 20954], 57: [20948, 20947, 20813, 20755], 58: [20725, 20693, 20585, 20513], 59: [20431, 20338, 20310, 20296], 60: [20081]}\n"
     ]
    }
   ],
   "source": [
    "#Test worst fit\n",
    "\n",
    "filin = open(\"../../instances/HARD9.txt\", \"r\")\n",
    "lignes = filin.readlines()\n",
    "\n",
    "capacity=int(lignes[1])\n",
    "weight = [ int(x) for x in lignes[2:len(lignes)] ]\n",
    "weight=np.asarray(weight)\n",
    "\n",
    "#weight = [10,80,70,10,10,8,4]\n",
    "#capacity = 100\n",
    "\n",
    "nb,tabOb=worstFit(weight, capacity)\n",
    "print(\"Nombre de bacs necéssaire avec Worst Fit :\",  nb) \n",
    "print(\"\\nAffichage du contenu des bacs :\\n\", tabOb)"
   ]
  }
 ],
 "metadata": {
  "kernelspec": {
   "display_name": "Python 3",
   "language": "python",
   "name": "python3"
  },
  "language_info": {
   "codemirror_mode": {
    "name": "ipython",
    "version": 3
   },
   "file_extension": ".py",
   "mimetype": "text/x-python",
   "name": "python",
   "nbconvert_exporter": "python",
   "pygments_lexer": "ipython3",
   "version": "3.8.5"
  }
 },
 "nbformat": 4,
 "nbformat_minor": 4
}
